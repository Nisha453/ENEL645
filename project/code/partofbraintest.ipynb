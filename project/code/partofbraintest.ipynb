{
  "cells": [
    {
      "cell_type": "code",
      "execution_count": null,
      "metadata": {
        "id": "0830gHU9WDTT"
      },
      "outputs": [],
      "source": [
        "#installing important packages\n",
        "! pip install seaborn"
      ]
    },
    {
      "cell_type": "code",
      "execution_count": 13,
      "metadata": {
        "id": "SO_pUN--WksW"
      },
      "outputs": [],
      "source": [
        "#importing the libraries\n",
        "%matplotlib inline\n",
        "import glob\n",
        "import matplotlib.pyplot as plt\n",
        "import pandas as pd\n",
        "from scipy.stats import gaussian_kde\n",
        "from scipy.interpolate import make_interp_spline\n",
        "import seaborn as sns\n",
        "import tensorflow as tf\n",
        "import os\n",
        "from keras.preprocessing import image\n",
        "import numpy as np\n",
        "maleData=[]\n",
        "xdata=None\n",
        "count=0\n",
        "img_width, img_height = 128,128\n",
        "model = tf.keras.models.load_model('/content/drive/MyDrive/ENEL645/savedmodels/resnet_model_v1no4k.weights.best.hdf5')\n",
        "# plt.plot(xdata,np.divide(np.sum(maleData,axis=0),count))"
      ]
    },
    {
      "cell_type": "code",
      "execution_count": 14,
      "metadata": {
        "id": "hVztlGh0v6RS"
      },
      "outputs": [],
      "source": [
        "#plots the graph that shows the region important for the prediction\n",
        "def perform_prediction_analysis(subject,path):\n",
        "  global xdata\n",
        "  global maleData\n",
        "  global count\n",
        "  count+=1\n",
        "  class_subset = sorted(os.listdir('/content/drive/MyDrive/Colab Notebooks/NewTrain'))[:10]\n",
        "  print(class_subset)\n",
        "  res=[]\n",
        "  inp=[]\n",
        "  for i in glob.glob(path):\n",
        "    img = image.load_img(i, target_size=(img_width, img_height))\n",
        "    x = image.img_to_array(img)\n",
        "    # x = np.expand_dims(x, axis=0)\n",
        "    # images = np.vstack([x])\n",
        "    inp.append(x)\n",
        "  inp=np.asarray(inp)\n",
        "  print(inp.shape)\n",
        "\n",
        "  classes = model.predict(inp)\n",
        "  confidence=np.diff(classes,axis=1)\n",
        "  print(max(confidence))\n",
        "\n",
        "  if subject==\"Male\":\n",
        "    thresh=0\n",
        "    confidence=np.multiply(confidence,-1)\n",
        "    confidence[confidence>=0.1]=1\n",
        "    confidence[confidence<thresh]=0\n",
        "  else:\n",
        "    thresh=0.85\n",
        "    confidence[confidence<thresh]=0\n",
        "\n",
        "  plt.plot(range(confidence.shape[0]),confidence,label=subject)\n",
        "  classes=np.argmax(classes,1)\n",
        "  print(\"male\")\n",
        "  print(\"female:\"+str( len(np.where( classes == 0)[0])))\n",
        "  print(\"male:\"+str( len(np.where( classes == 1)[0])))\n"
      ]
    },
    {
      "cell_type": "code",
      "execution_count": null,
      "metadata": {
        "id": "I2Ep6B_zwNRo"
      },
      "outputs": [],
      "source": [
        "#plotting male and female images to check the contributing region\n",
        "perform_prediction_analysis(\"Female\",'/content/drive/MyDrive/Colab Notebooks/NewTrain/Female/0*.jpg')\n",
        "perform_prediction_analysis(\"Female\",'/content/drive/MyDrive/Colab Notebooks/NewTrain/Female/1*.jpg')\n",
        "perform_prediction_analysis(\"Female\",'/content/drive/MyDrive/Colab Notebooks/NewTrain/Female/2*.jpg')\n",
        "perform_prediction_analysis(\"Female\",'/content/drive/MyDrive/Colab Notebooks/NewTrain/Female/3*.jpg')\n",
        "plt.show()\n",
        "\n",
        "perform_prediction_analysis(\"Male\",'/content/drive/MyDrive/Colab Notebooks/NewTrain/Male/0*.jpg')\n",
        "perform_prediction_analysis(\"Male\",'/content/drive/MyDrive/Colab Notebooks/NewTrain/Male/1*.jpg')\n",
        "perform_prediction_analysis(\"Male\",'/content/drive/MyDrive/Colab Notebooks/NewTrain/Male/2*.jpg')\n",
        "perform_prediction_analysis(\"Male\",'/content/drive/MyDrive/Colab Notebooks/NewTrain/Male/3*.jpg')\n"
      ]
    }
  ],
  "metadata": {
    "colab": {
      "name": "partofbraintest",
      "provenance": []
    },
    "kernelspec": {
      "display_name": "Python 3",
      "name": "python3"
    },
    "language_info": {
      "name": "python"
    }
  },
  "nbformat": 4,
  "nbformat_minor": 0
}
